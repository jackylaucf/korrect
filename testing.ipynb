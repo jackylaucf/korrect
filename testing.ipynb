{
 "cells": [
  {
   "cell_type": "code",
   "execution_count": 1,
   "metadata": {},
   "outputs": [
    {
     "name": "stdout",
     "output_type": "stream",
     "text": [
      "\n",
      "  You can now view your Streamlit app in your browser.\n",
      "\n",
      "  Local URL: http://localhost:8503\n",
      "  Network URL: http://192.168.0.109:8503\n",
      "\n"
     ]
    },
    {
     "name": "stderr",
     "output_type": "stream",
     "text": [
      "/Users/enochkan/Desktop/Kortex/korrect/korrect/backend.py:8: RuntimeWarning: coroutine 'KorrectExtractor.extract_claim' was never awaited\n",
      "  extractor.extract_claim()\n",
      "RuntimeWarning: Enable tracemalloc to get the object allocation traceback\n",
      "2023-08-15 22:20:08.132 Uncaught app exception\n",
      "Traceback (most recent call last):\n",
      "  File \"/usr/local/lib/python3.9/site-packages/streamlit/runtime/scriptrunner/script_runner.py\", line 552, in _run_script\n",
      "    exec(code, module.__dict__)\n",
      "  File \"/Users/enochkan/Desktop/Kortex/korrect/korrect/ui.py\", line 108, in <module>\n",
      "    korrect_ui.run()\n",
      "  File \"/Users/enochkan/Desktop/Kortex/korrect/korrect/ui.py\", line 42, in run\n",
      "    self.handle_mode()\n",
      "  File \"/Users/enochkan/Desktop/Kortex/korrect/korrect/ui.py\", line 49, in handle_mode\n",
      "    self.handle_fact_checking_mode_ui()\n",
      "  File \"/Users/enochkan/Desktop/Kortex/korrect/korrect/ui.py\", line 88, in handle_fact_checking_mode_ui\n",
      "    _, response, claims, validation = fact_checking(BASE_PATH, prompt_to_check, self.model_type)\n",
      "  File \"/Users/enochkan/Desktop/Kortex/korrect/korrect/backend.py\", line 10, in fact_checking\n",
      "    extractor.extract_query()\n",
      "  File \"/Users/enochkan/Desktop/Kortex/korrect/korrect/methods/extractor.py\", line 31, in extract_query\n",
      "    ] for claim in self.claims]\n",
      "AttributeError: 'KorrectExtractor' object has no attribute 'claims'\n"
     ]
    }
   ],
   "source": [
    "from korrect.main import Korrect\n",
    "\n",
    "client = Korrect()"
   ]
  },
  {
   "cell_type": "code",
   "execution_count": 2,
   "metadata": {},
   "outputs": [],
   "source": [
    "client.close()"
   ]
  }
 ],
 "metadata": {
  "kernelspec": {
   "display_name": "Python 3",
   "language": "python",
   "name": "python3"
  },
  "language_info": {
   "codemirror_mode": {
    "name": "ipython",
    "version": 3
   },
   "file_extension": ".py",
   "mimetype": "text/x-python",
   "name": "python",
   "nbconvert_exporter": "python",
   "pygments_lexer": "ipython3",
   "version": "3.9.10"
  },
  "orig_nbformat": 4
 },
 "nbformat": 4,
 "nbformat_minor": 2
}
