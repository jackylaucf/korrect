{
 "cells": [
  {
   "cell_type": "code",
   "execution_count": 1,
   "metadata": {},
   "outputs": [
    {
     "name": "stdout",
     "output_type": "stream",
     "text": [
      "\n",
      "  You can now view your Streamlit app in your browser.\n",
      "\n",
      "  Local URL: http://localhost:8503\n",
      "  Network URL: http://192.168.0.109:8503\n",
      "\n"
     ]
    },
    {
     "name": "stderr",
     "output_type": "stream",
     "text": [
      "2023-08-15 13:15:04.314 Uncaught app exception\n",
      "Traceback (most recent call last):\n",
      "  File \"/usr/local/lib/python3.9/site-packages/streamlit/runtime/scriptrunner/script_runner.py\", line 552, in _run_script\n",
      "    exec(code, module.__dict__)\n",
      "  File \"/Users/enochkan/Desktop/Kortex/korrect/korrect/ui.py\", line 108, in <module>\n",
      "    korrect_ui.run()\n",
      "  File \"/Users/enochkan/Desktop/Kortex/korrect/korrect/ui.py\", line 42, in run\n",
      "    self.handle_mode()\n",
      "  File \"/Users/enochkan/Desktop/Kortex/korrect/korrect/ui.py\", line 49, in handle_mode\n",
      "    self.handle_fact_checking_mode_ui()\n",
      "  File \"/Users/enochkan/Desktop/Kortex/korrect/korrect/ui.py\", line 88, in handle_fact_checking_mode_ui\n",
      "    _, response, claims, validation = fact_checking(BASE_PATH, prompt_to_check, self.model_type)\n",
      "  File \"/Users/enochkan/Desktop/Kortex/korrect/korrect/backend.py\", line 14, in fact_checking\n",
      "    extractor.validate_claim_based_on_evidence()\n",
      "  File \"/Users/enochkan/Desktop/Kortex/korrect/korrect/methods/extractor.py\", line 55, in validate_claim_based_on_evidence\n",
      "    self.validated = [json.loads(self.model.prompt(messages=template)) for template in templated]\n",
      "  File \"/Users/enochkan/Desktop/Kortex/korrect/korrect/methods/extractor.py\", line 55, in <listcomp>\n",
      "    self.validated = [json.loads(self.model.prompt(messages=template)) for template in templated]\n",
      "  File \"/usr/local/Cellar/python@3.9/3.9.10/Frameworks/Python.framework/Versions/3.9/lib/python3.9/json/__init__.py\", line 346, in loads\n",
      "    return _default_decoder.decode(s)\n",
      "  File \"/usr/local/Cellar/python@3.9/3.9.10/Frameworks/Python.framework/Versions/3.9/lib/python3.9/json/decoder.py\", line 337, in decode\n",
      "    obj, end = self.raw_decode(s, idx=_w(s, 0).end())\n",
      "  File \"/usr/local/Cellar/python@3.9/3.9.10/Frameworks/Python.framework/Versions/3.9/lib/python3.9/json/decoder.py\", line 353, in raw_decode\n",
      "    obj, end = self.scan_once(s, idx)\n",
      "json.decoder.JSONDecodeError: Expecting ',' delimiter: line 3 column 3 (char 101)\n",
      "2023-08-15 13:15:49.179 Uncaught app exception\n",
      "Traceback (most recent call last):\n",
      "  File \"/usr/local/lib/python3.9/site-packages/streamlit/runtime/scriptrunner/script_runner.py\", line 552, in _run_script\n",
      "    exec(code, module.__dict__)\n",
      "  File \"/Users/enochkan/Desktop/Kortex/korrect/korrect/ui.py\", line 108, in <module>\n",
      "    korrect_ui.run()\n",
      "  File \"/Users/enochkan/Desktop/Kortex/korrect/korrect/ui.py\", line 42, in run\n",
      "    self.handle_mode()\n",
      "  File \"/Users/enochkan/Desktop/Kortex/korrect/korrect/ui.py\", line 49, in handle_mode\n",
      "    self.handle_fact_checking_mode_ui()\n",
      "  File \"/Users/enochkan/Desktop/Kortex/korrect/korrect/ui.py\", line 88, in handle_fact_checking_mode_ui\n",
      "    _, response, claims, validation = fact_checking(BASE_PATH, prompt_to_check, self.model_type)\n",
      "  File \"/Users/enochkan/Desktop/Kortex/korrect/korrect/backend.py\", line 10, in fact_checking\n",
      "    extractor.extract_query()\n",
      "  File \"/Users/enochkan/Desktop/Kortex/korrect/korrect/methods/extractor.py\", line 33, in extract_query\n",
      "    self.queries = [json.loads(self.model.prompt(messages=template)) for template in templated]\n",
      "  File \"/Users/enochkan/Desktop/Kortex/korrect/korrect/methods/extractor.py\", line 33, in <listcomp>\n",
      "    self.queries = [json.loads(self.model.prompt(messages=template)) for template in templated]\n",
      "  File \"/usr/local/Cellar/python@3.9/3.9.10/Frameworks/Python.framework/Versions/3.9/lib/python3.9/json/__init__.py\", line 346, in loads\n",
      "    return _default_decoder.decode(s)\n",
      "  File \"/usr/local/Cellar/python@3.9/3.9.10/Frameworks/Python.framework/Versions/3.9/lib/python3.9/json/decoder.py\", line 337, in decode\n",
      "    obj, end = self.raw_decode(s, idx=_w(s, 0).end())\n",
      "  File \"/usr/local/Cellar/python@3.9/3.9.10/Frameworks/Python.framework/Versions/3.9/lib/python3.9/json/decoder.py\", line 355, in raw_decode\n",
      "    raise JSONDecodeError(\"Expecting value\", s, err.value) from None\n",
      "json.decoder.JSONDecodeError: Expecting value: line 1 column 2 (char 1)\n",
      "2023-08-15 13:16:07.545 Uncaught app exception\n",
      "Traceback (most recent call last):\n",
      "  File \"/usr/local/lib/python3.9/site-packages/streamlit/runtime/scriptrunner/script_runner.py\", line 552, in _run_script\n",
      "    exec(code, module.__dict__)\n",
      "  File \"/Users/enochkan/Desktop/Kortex/korrect/korrect/ui.py\", line 108, in <module>\n",
      "    korrect_ui.run()\n",
      "  File \"/Users/enochkan/Desktop/Kortex/korrect/korrect/ui.py\", line 42, in run\n",
      "    self.handle_mode()\n",
      "  File \"/Users/enochkan/Desktop/Kortex/korrect/korrect/ui.py\", line 49, in handle_mode\n",
      "    self.handle_fact_checking_mode_ui()\n",
      "  File \"/Users/enochkan/Desktop/Kortex/korrect/korrect/ui.py\", line 88, in handle_fact_checking_mode_ui\n",
      "    _, response, claims, validation = fact_checking(BASE_PATH, prompt_to_check, self.model_type)\n",
      "  File \"/Users/enochkan/Desktop/Kortex/korrect/korrect/backend.py\", line 8, in fact_checking\n",
      "    extractor.extract_claim()\n",
      "  File \"/Users/enochkan/Desktop/Kortex/korrect/korrect/methods/extractor.py\", line 22, in extract_claim\n",
      "    self.claims = json.loads(self.model.prompt(messages=templated))\n",
      "  File \"/usr/local/Cellar/python@3.9/3.9.10/Frameworks/Python.framework/Versions/3.9/lib/python3.9/json/__init__.py\", line 346, in loads\n",
      "    return _default_decoder.decode(s)\n",
      "  File \"/usr/local/Cellar/python@3.9/3.9.10/Frameworks/Python.framework/Versions/3.9/lib/python3.9/json/decoder.py\", line 337, in decode\n",
      "    obj, end = self.raw_decode(s, idx=_w(s, 0).end())\n",
      "  File \"/usr/local/Cellar/python@3.9/3.9.10/Frameworks/Python.framework/Versions/3.9/lib/python3.9/json/decoder.py\", line 353, in raw_decode\n",
      "    obj, end = self.scan_once(s, idx)\n",
      "json.decoder.JSONDecodeError: Expecting ',' delimiter: line 1 column 67 (char 66)\n"
     ]
    }
   ],
   "source": [
    "from korrect.main import Korrect\n",
    "\n",
    "client = Korrect()"
   ]
  },
  {
   "cell_type": "code",
   "execution_count": 2,
   "metadata": {},
   "outputs": [],
   "source": [
    "client.close()"
   ]
  }
 ],
 "metadata": {
  "kernelspec": {
   "display_name": "Python 3",
   "language": "python",
   "name": "python3"
  },
  "language_info": {
   "codemirror_mode": {
    "name": "ipython",
    "version": 3
   },
   "file_extension": ".py",
   "mimetype": "text/x-python",
   "name": "python",
   "nbconvert_exporter": "python",
   "pygments_lexer": "ipython3",
   "version": "3.9.10"
  },
  "orig_nbformat": 4
 },
 "nbformat": 4,
 "nbformat_minor": 2
}
