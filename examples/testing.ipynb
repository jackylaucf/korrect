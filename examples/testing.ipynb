{
 "cells": [
  {
   "cell_type": "code",
   "execution_count": 2,
   "metadata": {},
   "outputs": [
    {
     "name": "stdout",
     "output_type": "stream",
     "text": [
      "\n",
      "  You can now view your Streamlit app in your browser.\n",
      "\n",
      "  Local URL: http://localhost:8504\n",
      "  Network URL: http://192.168.0.109:8504\n",
      "\n"
     ]
    },
    {
     "name": "stderr",
     "output_type": "stream",
     "text": [
      "2023-08-16 09:26:48.353 Uncaught app exception\n",
      "Traceback (most recent call last):\n",
      "  File \"/usr/local/lib/python3.9/site-packages/streamlit/runtime/scriptrunner/script_runner.py\", line 552, in _run_script\n",
      "    exec(code, module.__dict__)\n",
      "  File \"/Users/enochkan/Desktop/Kortex/korrect/korrect/ui.py\", line 4, in <module>\n",
      "    from korrect.backend import fact_checking\n",
      "ModuleNotFoundError: No module named 'korrect'\n",
      "2023-08-16 09:26:49.731 Uncaught app exception\n",
      "Traceback (most recent call last):\n",
      "  File \"/usr/local/lib/python3.9/site-packages/streamlit/runtime/scriptrunner/script_runner.py\", line 552, in _run_script\n",
      "    exec(code, module.__dict__)\n",
      "  File \"/Users/enochkan/Desktop/Kortex/korrect/korrect/ui.py\", line 4, in <module>\n",
      "    from korrect.backend import fact_checking\n",
      "ModuleNotFoundError: No module named 'korrect'\n",
      "2023-08-16 09:26:51.734 Uncaught app exception\n",
      "Traceback (most recent call last):\n",
      "  File \"/usr/local/lib/python3.9/site-packages/streamlit/runtime/scriptrunner/script_runner.py\", line 552, in _run_script\n",
      "    exec(code, module.__dict__)\n",
      "  File \"/Users/enochkan/Desktop/Kortex/korrect/korrect/ui.py\", line 4, in <module>\n",
      "    from korrect.backend import fact_checking\n",
      "ModuleNotFoundError: No module named 'korrect'\n"
     ]
    }
   ],
   "source": [
    "import sys\n",
    "sys.path.append('../../../')\n",
    "from korrect.core import Korrect\n",
    "\n",
    "client = Korrect()"
   ]
  },
  {
   "cell_type": "code",
   "execution_count": 3,
   "metadata": {},
   "outputs": [],
   "source": [
    "client.close()"
   ]
  }
 ],
 "metadata": {
  "kernelspec": {
   "display_name": "Python 3",
   "language": "python",
   "name": "python3"
  },
  "language_info": {
   "codemirror_mode": {
    "name": "ipython",
    "version": 3
   },
   "file_extension": ".py",
   "mimetype": "text/x-python",
   "name": "python",
   "nbconvert_exporter": "python",
   "pygments_lexer": "ipython3",
   "version": "3.9.10"
  },
  "orig_nbformat": 4
 },
 "nbformat": 4,
 "nbformat_minor": 2
}
