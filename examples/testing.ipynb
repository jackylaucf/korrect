{
 "cells": [
  {
   "cell_type": "markdown",
   "metadata": {},
   "source": [
    "## Korrect usage\n",
    "\n",
    "### UI Mode\n",
    "\n",
    "if you want to get started with using the UI, simply run the following"
   ]
  },
  {
   "cell_type": "code",
   "execution_count": 1,
   "metadata": {},
   "outputs": [
    {
     "name": "stdout",
     "output_type": "stream",
     "text": [
      "\n",
      "  You can now view your Streamlit app in your browser.\n",
      "\n",
      "  Local URL: http://localhost:8503\n",
      "  Network URL: http://192.168.0.109:8503\n",
      "\n"
     ]
    }
   ],
   "source": [
    "from korrect.core import Korrect\n",
    "\n",
    "client = Korrect(ui=True)"
   ]
  },
  {
   "cell_type": "markdown",
   "metadata": {},
   "source": [
    "### No-UI Mode\n",
    "\n",
    "No-UI mode allows you to run Korrect as standalone tool in your code. To get started:"
   ]
  },
  {
   "cell_type": "code",
   "execution_count": 1,
   "metadata": {},
   "outputs": [],
   "source": [
    "from korrect.core import Korrect\n",
    "from IPython.display import display, HTML\n",
    "\n",
    "credentials = {\n",
    "    \"OPENAI_API_KEY\": \"*\",\n",
    "    \"SERPER_API_KEY\": \"*\"\n",
    "}\n",
    "\n",
    "client = Korrect(ui=False, credentials=credentials)"
   ]
  },
  {
   "cell_type": "code",
   "execution_count": 2,
   "metadata": {},
   "outputs": [
    {
     "data": {
      "text/html": [
       "<table border=\"1\" class=\"dataframe\">\n",
       "  <thead>\n",
       "    <tr style=\"text-align: right;\">\n",
       "      <th></th>\n",
       "      <th>model_name</th>\n",
       "      <th>model_type</th>\n",
       "      <th>latency</th>\n",
       "      <th>result</th>\n",
       "    </tr>\n",
       "  </thead>\n",
       "  <tbody>\n",
       "    <tr>\n",
       "      <th>0</th>\n",
       "      <td>gpt-3.5-turbo</td>\n",
       "      <td>OpenAI Chat</td>\n",
       "      <td>1417.952061</td>\n",
       "      <td>The Nobel Peace Prize for 2020 was awarded to the World Food Programme (WFP), a United Nations agency.</td>\n",
       "    </tr>\n",
       "    <tr>\n",
       "      <th>0</th>\n",
       "      <td>gpt-4</td>\n",
       "      <td>OpenAI Chat</td>\n",
       "      <td>2136.856079</td>\n",
       "      <td>The World Food Programme won the Nobel Peace Prize in 2020.</td>\n",
       "    </tr>\n",
       "  </tbody>\n",
       "</table>"
      ],
      "text/plain": [
       "<IPython.core.display.HTML object>"
      ]
     },
     "metadata": {},
     "output_type": "display_data"
    }
   ],
   "source": [
    "from korrect.core import Korrect\n",
    "from IPython.display import display, HTML\n",
    "\n",
    "credentials = {\n",
    "    \"OPENAI_API_KEY\": \"*\",\n",
    "    \"SERPER_API_KEY\": \"*\"\n",
    "}\n",
    "\n",
    "client = Korrect(ui=False, credentials=credentials)\n",
    "\n",
    "parameters = {\n",
    "    \"prompt\": \"who won the Nobel Peace Prize in 2020?\",\n",
    "    \"models\": [\n",
    "    {\"model_type\": \"OpenAI Chat\",\n",
    "    \"model_name\": \"gpt-3.5-turbo\"},\n",
    "    {\"model_type\": \"OpenAI Chat\",\n",
    "    \"model_name\": \"gpt-4\"}\n",
    "]}\n",
    "\n",
    "experiment = client.create_experiment(parameters=parameters)\n",
    "\n",
    "results = experiment.run()\n",
    "\n",
    "display(HTML(results.to_html()))"
   ]
  }
 ],
 "metadata": {
  "kernelspec": {
   "display_name": "Python 3",
   "language": "python",
   "name": "python3"
  },
  "language_info": {
   "codemirror_mode": {
    "name": "ipython",
    "version": 3
   },
   "file_extension": ".py",
   "mimetype": "text/x-python",
   "name": "python",
   "nbconvert_exporter": "python",
   "pygments_lexer": "ipython3",
   "version": "3.9.10"
  },
  "orig_nbformat": 4
 },
 "nbformat": 4,
 "nbformat_minor": 2
}
